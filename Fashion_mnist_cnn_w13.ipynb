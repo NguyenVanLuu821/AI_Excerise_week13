{
  "nbformat": 4,
  "nbformat_minor": 0,
  "metadata": {
    "colab": {
      "name": "Fashion_mnist_cnn_w13.ipynb",
      "provenance": [],
      "collapsed_sections": [],
      "authorship_tag": "ABX9TyNxAWK92nmx1V3nibsv3PRG",
      "include_colab_link": true
    },
    "kernelspec": {
      "name": "python3",
      "display_name": "Python 3"
    },
    "language_info": {
      "name": "python"
    },
    "accelerator": "GPU"
  },
  "cells": [
    {
      "cell_type": "markdown",
      "metadata": {
        "id": "view-in-github",
        "colab_type": "text"
      },
      "source": [
        "<a href=\"https://colab.research.google.com/github/NguyenVanLuu821/AI_Excerise_week13/blob/main/Fashion_mnist_cnn_w13.ipynb\" target=\"_parent\"><img src=\"https://colab.research.google.com/assets/colab-badge.svg\" alt=\"Open In Colab\"/></a>"
      ]
    },
    {
      "cell_type": "markdown",
      "source": [
        "#1.Import library"
      ],
      "metadata": {
        "id": "ZiQ4Pa_TG8XD"
      }
    },
    {
      "cell_type": "code",
      "execution_count": 16,
      "metadata": {
        "id": "SaKITp0HGsra"
      },
      "outputs": [],
      "source": [
        "import matplotlib.pyplot as plt\n",
        "import numpy as np\n",
        "from tensorflow.keras import datasets\n",
        "from keras.utils import np_utils\n",
        "from keras.models import Sequential\n",
        "from keras.layers import Dense, Dropout, Flatten,Activation, Conv2D, MaxPooling2D, ZeroPadding2D\n",
        "from tensorflow.keras.optimizers import RMSprop, Adam, SGD, Optimizer\n",
        "from keras.callbacks import EarlyStopping\n",
        "from keras.models import load_model\n",
        "from keras.preprocessing.image import load_img, img_to_array"
      ]
    },
    {
      "cell_type": "markdown",
      "source": [
        "#2.Import file and load data"
      ],
      "metadata": {
        "id": "a3RAbxc1G_6h"
      }
    },
    {
      "cell_type": "code",
      "source": [
        "(x_train,y_train),(x_test,y_test) = datasets.fashion_mnist.load_data()"
      ],
      "metadata": {
        "id": "xabE6we1HD4J"
      },
      "execution_count": 17,
      "outputs": []
    },
    {
      "cell_type": "code",
      "source": [
        "#handling data\n",
        "x_train = x_train.astype('float32')\n",
        "x_test  = x_test.astype('float32')\n",
        "x_train = x_train/255\n",
        "x_test  = x_test/255"
      ],
      "metadata": {
        "id": "PUInhK3fHGOo"
      },
      "execution_count": 18,
      "outputs": []
    },
    {
      "cell_type": "code",
      "source": [
        "# Convert class vectors to binary class matrices.\n",
        "y_train = np_utils.to_categorical(y_train, 10)\n",
        "y_test = np_utils.to_categorical(y_test, 10)"
      ],
      "metadata": {
        "id": "yIgdZH6iHIjV"
      },
      "execution_count": 19,
      "outputs": []
    },
    {
      "cell_type": "markdown",
      "source": [
        "#3.Cteate model"
      ],
      "metadata": {
        "id": "kN-prK5iHZ-5"
      }
    },
    {
      "cell_type": "code",
      "source": [
        "model = Sequential()\n",
        "model.add(Conv2D(32,(3,3), activation = 'relu', kernel_initializer = 'he_uniform', padding = 'same', input_shape=(28,28,1)))\n",
        "model.add(Conv2D(32,(3,3), activation = 'relu', kernel_initializer = 'he_uniform', padding = 'same'))#layer 1\n",
        "model.add(MaxPooling2D((2,2)))\n",
        "model.add(Dropout(0.5))\n",
        "\n",
        "model.add(Conv2D(32,(3,3), activation = 'relu', kernel_initializer = 'he_uniform', padding = 'same')) #layer2\n",
        "model.add(MaxPooling2D((2,2)))\n",
        "model.add(Dropout(0.5))\n",
        "\n",
        "model.add(Flatten())\n",
        "model.add(Dense(32, activation = 'relu')) #layer3\n",
        "model.add(Dropout(0.25))\n",
        "\n",
        "model.add(Dense(10,activation='softmax'))\n",
        "model.summary()"
      ],
      "metadata": {
        "colab": {
          "base_uri": "https://localhost:8080/"
        },
        "id": "GHAXt9UwHaPE",
        "outputId": "fd318fa0-6ba1-4523-8caf-84cdc20c630c"
      },
      "execution_count": 22,
      "outputs": [
        {
          "output_type": "stream",
          "name": "stdout",
          "text": [
            "Model: \"sequential_6\"\n",
            "_________________________________________________________________\n",
            " Layer (type)                Output Shape              Param #   \n",
            "=================================================================\n",
            " conv2d_18 (Conv2D)          (None, 28, 28, 32)        320       \n",
            "                                                                 \n",
            " conv2d_19 (Conv2D)          (None, 28, 28, 32)        9248      \n",
            "                                                                 \n",
            " max_pooling2d_12 (MaxPoolin  (None, 14, 14, 32)       0         \n",
            " g2D)                                                            \n",
            "                                                                 \n",
            " dropout_18 (Dropout)        (None, 14, 14, 32)        0         \n",
            "                                                                 \n",
            " conv2d_20 (Conv2D)          (None, 14, 14, 32)        9248      \n",
            "                                                                 \n",
            " max_pooling2d_13 (MaxPoolin  (None, 7, 7, 32)         0         \n",
            " g2D)                                                            \n",
            "                                                                 \n",
            " dropout_19 (Dropout)        (None, 7, 7, 32)          0         \n",
            "                                                                 \n",
            " flatten_6 (Flatten)         (None, 1568)              0         \n",
            "                                                                 \n",
            " dense_12 (Dense)            (None, 32)                50208     \n",
            "                                                                 \n",
            " dropout_20 (Dropout)        (None, 32)                0         \n",
            "                                                                 \n",
            " dense_13 (Dense)            (None, 10)                330       \n",
            "                                                                 \n",
            "=================================================================\n",
            "Total params: 69,354\n",
            "Trainable params: 69,354\n",
            "Non-trainable params: 0\n",
            "_________________________________________________________________\n"
          ]
        }
      ]
    },
    {
      "cell_type": "markdown",
      "source": [
        "#4.Training"
      ],
      "metadata": {
        "id": "kGsfoAXdHgJM"
      }
    },
    {
      "cell_type": "code",
      "source": [
        "model.compile(optimizer= Adam(),loss='categorical_crossentropy',metrics=['accuracy'])\n",
        "history = model.fit(x_train,y_train,batch_size = 32, epochs = 10,verbose = 1, validation_data =(x_test,y_test))"
      ],
      "metadata": {
        "colab": {
          "base_uri": "https://localhost:8080/"
        },
        "id": "zA668RTTHgOx",
        "outputId": "ae1eac21-0684-4412-e622-0d388a67a65c"
      },
      "execution_count": 23,
      "outputs": [
        {
          "output_type": "stream",
          "name": "stdout",
          "text": [
            "Epoch 1/10\n",
            "1875/1875 [==============================] - 23s 12ms/step - loss: 0.8418 - accuracy: 0.6884 - val_loss: 0.4374 - val_accuracy: 0.8440\n",
            "Epoch 2/10\n",
            "1875/1875 [==============================] - 21s 11ms/step - loss: 0.5183 - accuracy: 0.8094 - val_loss: 0.3800 - val_accuracy: 0.8642\n",
            "Epoch 3/10\n",
            "1875/1875 [==============================] - 21s 11ms/step - loss: 0.4588 - accuracy: 0.8272 - val_loss: 0.3420 - val_accuracy: 0.8719\n",
            "Epoch 4/10\n",
            "1875/1875 [==============================] - 21s 11ms/step - loss: 0.4266 - accuracy: 0.8412 - val_loss: 0.3227 - val_accuracy: 0.8832\n",
            "Epoch 5/10\n",
            "1875/1875 [==============================] - 21s 11ms/step - loss: 0.4032 - accuracy: 0.8501 - val_loss: 0.3222 - val_accuracy: 0.8843\n",
            "Epoch 6/10\n",
            "1875/1875 [==============================] - 21s 11ms/step - loss: 0.3808 - accuracy: 0.8593 - val_loss: 0.2966 - val_accuracy: 0.8955\n",
            "Epoch 7/10\n",
            "1875/1875 [==============================] - 21s 11ms/step - loss: 0.3701 - accuracy: 0.8623 - val_loss: 0.2890 - val_accuracy: 0.8945\n",
            "Epoch 8/10\n",
            "1875/1875 [==============================] - 22s 12ms/step - loss: 0.3520 - accuracy: 0.8700 - val_loss: 0.2771 - val_accuracy: 0.8981\n",
            "Epoch 9/10\n",
            "1875/1875 [==============================] - 22s 12ms/step - loss: 0.3443 - accuracy: 0.8744 - val_loss: 0.2627 - val_accuracy: 0.9025\n",
            "Epoch 10/10\n",
            "1875/1875 [==============================] - 21s 11ms/step - loss: 0.3358 - accuracy: 0.8769 - val_loss: 0.2637 - val_accuracy: 0.9056\n"
          ]
        }
      ]
    },
    {
      "cell_type": "code",
      "source": [
        "#save model\n",
        "model_json = model.to_json()\n",
        "with open('fashion_mnist_cnn.json','w') as file_json:\n",
        "  file_json.write(model_json)\n",
        "model.save_weights('fashion_mnist_cnn.h5')"
      ],
      "metadata": {
        "id": "hlr3330qILTT"
      },
      "execution_count": 24,
      "outputs": []
    },
    {
      "cell_type": "code",
      "source": [
        "#plot figure\n",
        "plt.plot(history.history['accuracy'])\n",
        "plt.plot(history.history['val_accuracy'])\n",
        "plt.title('Model accuracy')\n",
        "plt.ylabel('Accuracy')\n",
        "plt.xlabel('Epochs')\n",
        "plt.legend(['Train','Validation'],loc='upper_left')\n",
        "plt.show()\n",
        "plt.plot(history.history['loss'])\n",
        "plt.plot(history.history['val_loss'])\n",
        "plt.title('Model error')\n",
        "plt.ylabel('error')\n",
        "plt.xlabel('Epochs')\n",
        "plt.show()"
      ],
      "metadata": {
        "colab": {
          "base_uri": "https://localhost:8080/",
          "height": 816
        },
        "id": "EhPQYIVJIL5w",
        "outputId": "fee7a3f1-b2dd-421d-9b6c-ce7f8568a416"
      },
      "execution_count": 25,
      "outputs": [
        {
          "output_type": "stream",
          "name": "stderr",
          "text": [
            "/usr/local/lib/python3.7/dist-packages/ipykernel_launcher.py:7: MatplotlibDeprecationWarning: Unrecognized location 'upper_left'. Falling back on 'best'; valid locations are\n",
            "\tbest\n",
            "\tupper right\n",
            "\tupper left\n",
            "\tlower left\n",
            "\tlower right\n",
            "\tright\n",
            "\tcenter left\n",
            "\tcenter right\n",
            "\tlower center\n",
            "\tupper center\n",
            "\tcenter\n",
            "This will raise an exception in 3.3.\n",
            "  import sys\n"
          ]
        },
        {
          "output_type": "display_data",
          "data": {
            "text/plain": [
              "<Figure size 432x288 with 1 Axes>"
            ],
            "image/png": "[encoded data removed]"
          },
          "metadata": {
            "needs_background": "light"
          }
        },
        {
          "output_type": "display_data",
          "data": {
            "text/plain": [
              "<Figure size 432x288 with 1 Axes>"
            ],
            "image/png": "[encoded data removed]"
          },
          "metadata": {
            "needs_background": "light"
          }
        }
      ]
    }
  ]
}