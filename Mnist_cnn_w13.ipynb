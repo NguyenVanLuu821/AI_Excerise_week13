{
  "nbformat": 4,
  "nbformat_minor": 0,
  "metadata": {
    "colab": {
      "name": "Mnist_cnn_w13.ipynb",
      "provenance": [],
      "collapsed_sections": [],
      "authorship_tag": "ABX9TyMPM01dRZcxOxGzd/YZvLzB",
      "include_colab_link": true
    },
    "kernelspec": {
      "name": "python3",
      "display_name": "Python 3"
    },
    "language_info": {
      "name": "python"
    },
    "accelerator": "GPU"
  },
  "cells": [
    {
      "cell_type": "markdown",
      "metadata": {
        "id": "view-in-github",
        "colab_type": "text"
      },
      "source": [
        "<a href=\"https://colab.research.google.com/github/NguyenVanLuu821/AI_Excerise_week13/blob/main/Mnist_cnn_w13.ipynb\" target=\"_parent\"><img src=\"https://colab.research.google.com/assets/colab-badge.svg\" alt=\"Open In Colab\"/></a>"
      ]
    },
    {
      "cell_type": "markdown",
      "source": [
        "#1.Import library\n"
      ],
      "metadata": {
        "id": "DuOtIT7ZWDNI"
      }
    },
    {
      "cell_type": "code",
      "execution_count": 1,
      "metadata": {
        "id": "Frsj8SOkVz82"
      },
      "outputs": [],
      "source": [
        "import matplotlib.pyplot as plt\n",
        "import numpy as np\n",
        "from tensorflow.keras import datasets\n",
        "from keras.utils import np_utils\n",
        "from keras.models import Sequential\n",
        "from keras.layers import Dense, Dropout, Flatten,Activation, Conv2D, MaxPooling2D, ZeroPadding2D\n",
        "from tensorflow.keras.optimizers import RMSprop, Adam, SGD, Optimizer\n",
        "from keras.callbacks import EarlyStopping\n",
        "from keras.models import load_model\n",
        "from keras.preprocessing.image import load_img, img_to_array"
      ]
    },
    {
      "cell_type": "markdown",
      "source": [
        "#2.Import file and load data"
      ],
      "metadata": {
        "id": "Sihi8SgMWKJW"
      }
    },
    {
      "cell_type": "code",
      "source": [
        "(x_train,y_train),(x_test,y_test) = datasets.mnist.load_data()"
      ],
      "metadata": {
        "id": "8EK5U0YNWJVH"
      },
      "execution_count": 3,
      "outputs": []
    },
    {
      "cell_type": "code",
      "source": [
        "#handling data\n",
        "x_train = x_train.astype('float32')\n",
        "x_test  = x_test.astype('float32')\n",
        "x_train = x_train/255\n",
        "x_test  = x_test/255"
      ],
      "metadata": {
        "id": "KbHf_Q8RWx2d"
      },
      "execution_count": 4,
      "outputs": []
    },
    {
      "cell_type": "code",
      "source": [
        "# Convert class vectors to binary class matrices.\n",
        "y_train = np_utils.to_categorical(y_train, 10)\n",
        "y_test = np_utils.to_categorical(y_test, 10)"
      ],
      "metadata": {
        "id": "wXeppvaWW03H"
      },
      "execution_count": 5,
      "outputs": []
    },
    {
      "cell_type": "markdown",
      "source": [
        "#3.Create model "
      ],
      "metadata": {
        "id": "J4T_5fRiW-ZF"
      }
    },
    {
      "cell_type": "code",
      "source": [
        "model = Sequential()\n",
        "model.add(Conv2D(32,(3,3), activation = 'relu', kernel_initializer = 'he_uniform', padding = 'same', input_shape=(28,28,1)))\n",
        "model.add(Conv2D(32,(3,3), activation = 'relu', kernel_initializer = 'he_uniform', padding = 'same'))#layer 1\n",
        "model.add(MaxPooling2D((2,2)))\n",
        "model.add(Dropout(0.5))\n",
        "\n",
        "model.add(Conv2D(32,(3,3), activation = 'relu', kernel_initializer = 'he_uniform', padding = 'same')) #layer2\n",
        "model.add(MaxPooling2D((2,2)))\n",
        "model.add(Dropout(0.5))\n",
        "\n",
        "model.add(Flatten())\n",
        "model.add(Dense(32, activation = 'relu')) #layer3\n",
        "model.add(Dropout(0.5))\n",
        "\n",
        "model.add(Dense(10,activation='softmax'))\n",
        "model.summary()"
      ],
      "metadata": {
        "colab": {
          "base_uri": "https://localhost:8080/"
        },
        "id": "46vgvhWEW3YI",
        "outputId": "dbc36762-8fcd-45c0-c566-c6a4a7010b3c"
      },
      "execution_count": 10,
      "outputs": [
        {
          "output_type": "stream",
          "name": "stdout",
          "text": [
            "Model: \"sequential_2\"\n",
            "_________________________________________________________________\n",
            " Layer (type)                Output Shape              Param #   \n",
            "=================================================================\n",
            " conv2d_6 (Conv2D)           (None, 28, 28, 32)        320       \n",
            "                                                                 \n",
            " conv2d_7 (Conv2D)           (None, 28, 28, 32)        9248      \n",
            "                                                                 \n",
            " max_pooling2d_4 (MaxPooling  (None, 14, 14, 32)       0         \n",
            " 2D)                                                             \n",
            "                                                                 \n",
            " dropout_6 (Dropout)         (None, 14, 14, 32)        0         \n",
            "                                                                 \n",
            " conv2d_8 (Conv2D)           (None, 14, 14, 32)        9248      \n",
            "                                                                 \n",
            " max_pooling2d_5 (MaxPooling  (None, 7, 7, 32)         0         \n",
            " 2D)                                                             \n",
            "                                                                 \n",
            " dropout_7 (Dropout)         (None, 7, 7, 32)          0         \n",
            "                                                                 \n",
            " flatten_2 (Flatten)         (None, 1568)              0         \n",
            "                                                                 \n",
            " dense_4 (Dense)             (None, 32)                50208     \n",
            "                                                                 \n",
            " dropout_8 (Dropout)         (None, 32)                0         \n",
            "                                                                 \n",
            " dense_5 (Dense)             (None, 10)                330       \n",
            "                                                                 \n",
            "=================================================================\n",
            "Total params: 69,354\n",
            "Trainable params: 69,354\n",
            "Non-trainable params: 0\n",
            "_________________________________________________________________\n"
          ]
        }
      ]
    },
    {
      "cell_type": "markdown",
      "source": [
        "#4.Training"
      ],
      "metadata": {
        "id": "rrqiwoiWaZYO"
      }
    },
    {
      "cell_type": "code",
      "source": [
        "model.compile(optimizer= Adam(),loss='categorical_crossentropy',metrics=['accuracy'])\n",
        "history = model.fit(x_train,y_train,batch_size = 64, epochs = 10,verbose = 1, validation_data =(x_test,y_test))"
      ],
      "metadata": {
        "colab": {
          "base_uri": "https://localhost:8080/"
        },
        "id": "zGQZ-_ggXy9y",
        "outputId": "c5446584-a60a-4d57-a352-bae1c6ab5b6b"
      },
      "execution_count": 12,
      "outputs": [
        {
          "output_type": "stream",
          "name": "stdout",
          "text": [
            "Epoch 1/10\n",
            "938/938 [==============================] - 6s 6ms/step - loss: 0.1606 - accuracy: 0.9506 - val_loss: 0.0312 - val_accuracy: 0.9902\n",
            "Epoch 2/10\n",
            "938/938 [==============================] - 6s 6ms/step - loss: 0.1538 - accuracy: 0.9526 - val_loss: 0.0312 - val_accuracy: 0.9900\n",
            "Epoch 3/10\n",
            "938/938 [==============================] - 6s 6ms/step - loss: 0.1552 - accuracy: 0.9529 - val_loss: 0.0311 - val_accuracy: 0.9899\n",
            "Epoch 4/10\n",
            "938/938 [==============================] - 6s 6ms/step - loss: 0.1439 - accuracy: 0.9553 - val_loss: 0.0292 - val_accuracy: 0.9904\n",
            "Epoch 5/10\n",
            "938/938 [==============================] - 5s 5ms/step - loss: 0.1486 - accuracy: 0.9541 - val_loss: 0.0276 - val_accuracy: 0.9912\n",
            "Epoch 6/10\n",
            "938/938 [==============================] - 6s 6ms/step - loss: 0.1401 - accuracy: 0.9571 - val_loss: 0.0281 - val_accuracy: 0.9908\n",
            "Epoch 7/10\n",
            "938/938 [==============================] - 6s 6ms/step - loss: 0.1414 - accuracy: 0.9549 - val_loss: 0.0298 - val_accuracy: 0.9901\n",
            "Epoch 8/10\n",
            "938/938 [==============================] - 5s 6ms/step - loss: 0.1393 - accuracy: 0.9578 - val_loss: 0.0270 - val_accuracy: 0.9909\n",
            "Epoch 9/10\n",
            "938/938 [==============================] - 5s 6ms/step - loss: 0.1394 - accuracy: 0.9569 - val_loss: 0.0269 - val_accuracy: 0.9904\n",
            "Epoch 10/10\n",
            "938/938 [==============================] - 5s 6ms/step - loss: 0.1409 - accuracy: 0.9574 - val_loss: 0.0289 - val_accuracy: 0.9905\n"
          ]
        }
      ]
    },
    {
      "cell_type": "code",
      "source": [
        "#save model\n",
        "model_json = model.to_json()\n",
        "with open('mnist_cnn.json','w') as file_json:\n",
        "  file_json.write(model_json)\n",
        "model.save_weights('mnist_cnn.h5')"
      ],
      "metadata": {
        "id": "EwzweRE1aMLy"
      },
      "execution_count": 13,
      "outputs": []
    },
    {
      "cell_type": "code",
      "source": [
        "#plot figure\n",
        "plt.plot(history.history['accuracy'])\n",
        "plt.plot(history.history['val_accuracy'])\n",
        "plt.title('Model accuracy')\n",
        "plt.ylabel('Accuracy')\n",
        "plt.xlabel('Epochs')\n",
        "plt.legend(['Train','Validation'],loc='upper_left')\n",
        "plt.show()\n",
        "plt.plot(history.history['loss'])\n",
        "plt.plot(history.history['val_loss'])\n",
        "plt.title('Model error')\n",
        "plt.ylabel('error')\n",
        "plt.xlabel('Epochs')\n",
        "plt.show()"
      ],
      "metadata": {
        "colab": {
          "base_uri": "https://localhost:8080/",
          "height": 816
        },
        "id": "N9bPQ94LZPcn",
        "outputId": "c25ead59-1eeb-4f55-bfd7-3d072849eadc"
      },
      "execution_count": 14,
      "outputs": [
        {
          "output_type": "stream",
          "name": "stderr",
          "text": [
            "/usr/local/lib/python3.7/dist-packages/ipykernel_launcher.py:7: MatplotlibDeprecationWarning: Unrecognized location 'upper_left'. Falling back on 'best'; valid locations are\n",
            "\tbest\n",
            "\tupper right\n",
            "\tupper left\n",
            "\tlower left\n",
            "\tlower right\n",
            "\tright\n",
            "\tcenter left\n",
            "\tcenter right\n",
            "\tlower center\n",
            "\tupper center\n",
            "\tcenter\n",
            "This will raise an exception in 3.3.\n",
            "  import sys\n"
          ]
        },
        {
          "output_type": "display_data",
          "data": {
            "text/plain": [
              "<Figure size 432x288 with 1 Axes>"
            ],
            "image/png": "[encoded data removed]"
          },
          "metadata": {
            "needs_background": "light"
          }
        },
        {
          "output_type": "display_data",
          "data": {
            "text/plain": [
              "<Figure size 432x288 with 1 Axes>"
            ],
            "image/png": "[encoded data removed]"
          },
          "metadata": {
            "needs_background": "light"
          }
        }
      ]
    }
  ]
}